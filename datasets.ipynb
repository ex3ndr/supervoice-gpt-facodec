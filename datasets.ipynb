{
 "cells": [
  {
   "cell_type": "code",
   "execution_count": 1,
   "id": "6fc8c38b-a705-4645-9ba7-e08ed0920c82",
   "metadata": {},
   "outputs": [],
   "source": [
    "import torch\n",
    "import torchaudio\n",
    "from IPython.display import Audio, display\n",
    "import matplotlib.pyplot as plt\n",
    "import textgrid\n",
    "import math\n",
    "import pyworld as pw\n",
    "from supervoice_gpt import Tokenizer, SupervoiceGPT, config\n",
    "from utils.datasets import create_dataset_loader\n",
    "from tqdm import tqdm"
   ]
  },
  {
   "cell_type": "code",
   "execution_count": 2,
   "id": "3ad40323-8e01-4012-b86f-0e8128490f1c",
   "metadata": {},
   "outputs": [],
   "source": [
    "model = SupervoiceGPT(config)\n",
    "tokenizer = Tokenizer(config, \"./tokenizer_text.model\")\n",
    "dataset = create_dataset_loader(\"./external_datasets/librilight-processed/files_all.txt\",  input_length = 1024 * 10, output_length = 1024 * 10, batch_size = 1, tokenizer = tokenizer, workers = 1)"
   ]
  },
  {
   "cell_type": "code",
   "execution_count": 5,
   "id": "8598e1d1-82a1-4007-bf0f-3a0e385e7c5c",
   "metadata": {},
   "outputs": [
    {
     "name": "stderr",
     "output_type": "stream",
     "text": [
      "100%|██████████| 1000/1000 [01:21<00:00, 12.27it/s]"
     ]
    },
    {
     "name": "stdout",
     "output_type": "stream",
     "text": [
      "tensor([343]) tensor([2392]) 1023\n"
     ]
    },
    {
     "name": "stderr",
     "output_type": "stream",
     "text": [
      "\n"
     ]
    }
   ],
   "source": [
    "a_l = 0\n",
    "b_l = 0\n",
    "c_l = 0\n",
    "for i in tqdm(range(1000)):\n",
    "    a, b, c, d, e = next(iter(dataset))  \n",
    "    c_l = max(b.max().item(), c_l)\n",
    "    a_l = max(d, a_l)\n",
    "    b_l = max(e, b_l)\n",
    "print(a_l, b_l, c_l)\n",
    "# next(iter(dataset))"
   ]
  },
  {
   "cell_type": "code",
   "execution_count": 4,
   "id": "4cc024fa-8d21-4897-9be2-39eff250a659",
   "metadata": {},
   "outputs": [],
   "source": [
    "x, y, t, x_l, y_l = next(iter(dataset))\n",
    "_, loss = model(input = x, input_lengths = x_l, output_tokens = y, output_lengths = y_l, target_tokens = t)\n"
   ]
  },
  {
   "cell_type": "code",
   "execution_count": null,
   "id": "17a28f9d-8886-490f-b054-8e35f3349d06",
   "metadata": {},
   "outputs": [],
   "source": []
  }
 ],
 "metadata": {
  "kernelspec": {
   "display_name": "Python 3 (ipykernel)",
   "language": "python",
   "name": "python3"
  },
  "language_info": {
   "codemirror_mode": {
    "name": "ipython",
    "version": 3
   },
   "file_extension": ".py",
   "mimetype": "text/x-python",
   "name": "python",
   "nbconvert_exporter": "python",
   "pygments_lexer": "ipython3",
   "version": "3.10.13"
  }
 },
 "nbformat": 4,
 "nbformat_minor": 5
}
